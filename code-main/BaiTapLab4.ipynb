{
  "cells": [
    {
      "cell_type": "code",
      "execution_count": 2,
      "id": "488fcfb7-6185-4982-bca3-279428b902ef",
      "metadata": {
        "colab": {
          "base_uri": "https://localhost:8080/"
        },
        "id": "488fcfb7-6185-4982-bca3-279428b902ef",
        "outputId": "e90e017c-d2e4-475f-b1ce-583d0f243640"
      },
      "outputs": [
        {
          "output_type": "stream",
          "name": "stdout",
          "text": [
            "Accuracy: 60.0%\n",
            "Accuracy: 60.0%\n"
          ]
        }
      ],
      "source": [
        "# gọi hai thuật toán chạy trong notebook này\n",
        "%run decisionTree.ipynb\n",
        "%run randomForest.ipynb"
      ]
    },
    {
      "cell_type": "code",
      "execution_count": 3,
      "id": "1a624450-89fe-420f-a989-720a640733c9",
      "metadata": {
        "id": "1a624450-89fe-420f-a989-720a640733c9"
      },
      "outputs": [],
      "source": [
        "# nhập thư viện\n",
        "import numpy as np\n",
        "import pandas as pd\n",
        "from sklearn.model_selection import train_test_split"
      ]
    },
    {
      "cell_type": "code",
      "execution_count": 4,
      "id": "ab3e0e72-f511-427d-99ff-f9acfe2b5068",
      "metadata": {
        "colab": {
          "base_uri": "https://localhost:8080/",
          "height": 423
        },
        "id": "ab3e0e72-f511-427d-99ff-f9acfe2b5068",
        "outputId": "5418bf68-ca70-43c7-c8ea-b5a4e967795b"
      },
      "outputs": [
        {
          "output_type": "execute_result",
          "data": {
            "text/plain": [
              "     Age Sex      BP Cholesterol  Na_to_K   Drug\n",
              "0     23   F    HIGH        HIGH   25.355  DrugY\n",
              "1     47   M     LOW        HIGH   13.093  drugC\n",
              "2     47   M     LOW        HIGH   10.114  drugC\n",
              "3     28   F  NORMAL        HIGH    7.798  drugX\n",
              "4     61   F     LOW        HIGH   18.043  DrugY\n",
              "..   ...  ..     ...         ...      ...    ...\n",
              "195   56   F     LOW        HIGH   11.567  drugC\n",
              "196   16   M     LOW        HIGH   12.006  drugC\n",
              "197   52   M  NORMAL        HIGH    9.894  drugX\n",
              "198   23   M  NORMAL      NORMAL   14.020  drugX\n",
              "199   40   F     LOW      NORMAL   11.349  drugX\n",
              "\n",
              "[200 rows x 6 columns]"
            ],
            "text/html": [
              "\n",
              "  <div id=\"df-ac7ba56f-a822-4b74-9c0a-1dffde9684ae\" class=\"colab-df-container\">\n",
              "    <div>\n",
              "<style scoped>\n",
              "    .dataframe tbody tr th:only-of-type {\n",
              "        vertical-align: middle;\n",
              "    }\n",
              "\n",
              "    .dataframe tbody tr th {\n",
              "        vertical-align: top;\n",
              "    }\n",
              "\n",
              "    .dataframe thead th {\n",
              "        text-align: right;\n",
              "    }\n",
              "</style>\n",
              "<table border=\"1\" class=\"dataframe\">\n",
              "  <thead>\n",
              "    <tr style=\"text-align: right;\">\n",
              "      <th></th>\n",
              "      <th>Age</th>\n",
              "      <th>Sex</th>\n",
              "      <th>BP</th>\n",
              "      <th>Cholesterol</th>\n",
              "      <th>Na_to_K</th>\n",
              "      <th>Drug</th>\n",
              "    </tr>\n",
              "  </thead>\n",
              "  <tbody>\n",
              "    <tr>\n",
              "      <th>0</th>\n",
              "      <td>23</td>\n",
              "      <td>F</td>\n",
              "      <td>HIGH</td>\n",
              "      <td>HIGH</td>\n",
              "      <td>25.355</td>\n",
              "      <td>DrugY</td>\n",
              "    </tr>\n",
              "    <tr>\n",
              "      <th>1</th>\n",
              "      <td>47</td>\n",
              "      <td>M</td>\n",
              "      <td>LOW</td>\n",
              "      <td>HIGH</td>\n",
              "      <td>13.093</td>\n",
              "      <td>drugC</td>\n",
              "    </tr>\n",
              "    <tr>\n",
              "      <th>2</th>\n",
              "      <td>47</td>\n",
              "      <td>M</td>\n",
              "      <td>LOW</td>\n",
              "      <td>HIGH</td>\n",
              "      <td>10.114</td>\n",
              "      <td>drugC</td>\n",
              "    </tr>\n",
              "    <tr>\n",
              "      <th>3</th>\n",
              "      <td>28</td>\n",
              "      <td>F</td>\n",
              "      <td>NORMAL</td>\n",
              "      <td>HIGH</td>\n",
              "      <td>7.798</td>\n",
              "      <td>drugX</td>\n",
              "    </tr>\n",
              "    <tr>\n",
              "      <th>4</th>\n",
              "      <td>61</td>\n",
              "      <td>F</td>\n",
              "      <td>LOW</td>\n",
              "      <td>HIGH</td>\n",
              "      <td>18.043</td>\n",
              "      <td>DrugY</td>\n",
              "    </tr>\n",
              "    <tr>\n",
              "      <th>...</th>\n",
              "      <td>...</td>\n",
              "      <td>...</td>\n",
              "      <td>...</td>\n",
              "      <td>...</td>\n",
              "      <td>...</td>\n",
              "      <td>...</td>\n",
              "    </tr>\n",
              "    <tr>\n",
              "      <th>195</th>\n",
              "      <td>56</td>\n",
              "      <td>F</td>\n",
              "      <td>LOW</td>\n",
              "      <td>HIGH</td>\n",
              "      <td>11.567</td>\n",
              "      <td>drugC</td>\n",
              "    </tr>\n",
              "    <tr>\n",
              "      <th>196</th>\n",
              "      <td>16</td>\n",
              "      <td>M</td>\n",
              "      <td>LOW</td>\n",
              "      <td>HIGH</td>\n",
              "      <td>12.006</td>\n",
              "      <td>drugC</td>\n",
              "    </tr>\n",
              "    <tr>\n",
              "      <th>197</th>\n",
              "      <td>52</td>\n",
              "      <td>M</td>\n",
              "      <td>NORMAL</td>\n",
              "      <td>HIGH</td>\n",
              "      <td>9.894</td>\n",
              "      <td>drugX</td>\n",
              "    </tr>\n",
              "    <tr>\n",
              "      <th>198</th>\n",
              "      <td>23</td>\n",
              "      <td>M</td>\n",
              "      <td>NORMAL</td>\n",
              "      <td>NORMAL</td>\n",
              "      <td>14.020</td>\n",
              "      <td>drugX</td>\n",
              "    </tr>\n",
              "    <tr>\n",
              "      <th>199</th>\n",
              "      <td>40</td>\n",
              "      <td>F</td>\n",
              "      <td>LOW</td>\n",
              "      <td>NORMAL</td>\n",
              "      <td>11.349</td>\n",
              "      <td>drugX</td>\n",
              "    </tr>\n",
              "  </tbody>\n",
              "</table>\n",
              "<p>200 rows × 6 columns</p>\n",
              "</div>\n",
              "    <div class=\"colab-df-buttons\">\n",
              "\n",
              "  <div class=\"colab-df-container\">\n",
              "    <button class=\"colab-df-convert\" onclick=\"convertToInteractive('df-ac7ba56f-a822-4b74-9c0a-1dffde9684ae')\"\n",
              "            title=\"Convert this dataframe to an interactive table.\"\n",
              "            style=\"display:none;\">\n",
              "\n",
              "  <svg xmlns=\"http://www.w3.org/2000/svg\" height=\"24px\" viewBox=\"0 -960 960 960\">\n",
              "    <path d=\"M120-120v-720h720v720H120Zm60-500h600v-160H180v160Zm220 220h160v-160H400v160Zm0 220h160v-160H400v160ZM180-400h160v-160H180v160Zm440 0h160v-160H620v160ZM180-180h160v-160H180v160Zm440 0h160v-160H620v160Z\"/>\n",
              "  </svg>\n",
              "    </button>\n",
              "\n",
              "  <style>\n",
              "    .colab-df-container {\n",
              "      display:flex;\n",
              "      gap: 12px;\n",
              "    }\n",
              "\n",
              "    .colab-df-convert {\n",
              "      background-color: #E8F0FE;\n",
              "      border: none;\n",
              "      border-radius: 50%;\n",
              "      cursor: pointer;\n",
              "      display: none;\n",
              "      fill: #1967D2;\n",
              "      height: 32px;\n",
              "      padding: 0 0 0 0;\n",
              "      width: 32px;\n",
              "    }\n",
              "\n",
              "    .colab-df-convert:hover {\n",
              "      background-color: #E2EBFA;\n",
              "      box-shadow: 0px 1px 2px rgba(60, 64, 67, 0.3), 0px 1px 3px 1px rgba(60, 64, 67, 0.15);\n",
              "      fill: #174EA6;\n",
              "    }\n",
              "\n",
              "    .colab-df-buttons div {\n",
              "      margin-bottom: 4px;\n",
              "    }\n",
              "\n",
              "    [theme=dark] .colab-df-convert {\n",
              "      background-color: #3B4455;\n",
              "      fill: #D2E3FC;\n",
              "    }\n",
              "\n",
              "    [theme=dark] .colab-df-convert:hover {\n",
              "      background-color: #434B5C;\n",
              "      box-shadow: 0px 1px 3px 1px rgba(0, 0, 0, 0.15);\n",
              "      filter: drop-shadow(0px 1px 2px rgba(0, 0, 0, 0.3));\n",
              "      fill: #FFFFFF;\n",
              "    }\n",
              "  </style>\n",
              "\n",
              "    <script>\n",
              "      const buttonEl =\n",
              "        document.querySelector('#df-ac7ba56f-a822-4b74-9c0a-1dffde9684ae button.colab-df-convert');\n",
              "      buttonEl.style.display =\n",
              "        google.colab.kernel.accessAllowed ? 'block' : 'none';\n",
              "\n",
              "      async function convertToInteractive(key) {\n",
              "        const element = document.querySelector('#df-ac7ba56f-a822-4b74-9c0a-1dffde9684ae');\n",
              "        const dataTable =\n",
              "          await google.colab.kernel.invokeFunction('convertToInteractive',\n",
              "                                                    [key], {});\n",
              "        if (!dataTable) return;\n",
              "\n",
              "        const docLinkHtml = 'Like what you see? Visit the ' +\n",
              "          '<a target=\"_blank\" href=https://colab.research.google.com/notebooks/data_table.ipynb>data table notebook</a>'\n",
              "          + ' to learn more about interactive tables.';\n",
              "        element.innerHTML = '';\n",
              "        dataTable['output_type'] = 'display_data';\n",
              "        await google.colab.output.renderOutput(dataTable, element);\n",
              "        const docLink = document.createElement('div');\n",
              "        docLink.innerHTML = docLinkHtml;\n",
              "        element.appendChild(docLink);\n",
              "      }\n",
              "    </script>\n",
              "  </div>\n",
              "\n",
              "\n",
              "<div id=\"df-c2bc6327-a249-4d44-894f-efc5423b6063\">\n",
              "  <button class=\"colab-df-quickchart\" onclick=\"quickchart('df-c2bc6327-a249-4d44-894f-efc5423b6063')\"\n",
              "            title=\"Suggest charts\"\n",
              "            style=\"display:none;\">\n",
              "\n",
              "<svg xmlns=\"http://www.w3.org/2000/svg\" height=\"24px\"viewBox=\"0 0 24 24\"\n",
              "     width=\"24px\">\n",
              "    <g>\n",
              "        <path d=\"M19 3H5c-1.1 0-2 .9-2 2v14c0 1.1.9 2 2 2h14c1.1 0 2-.9 2-2V5c0-1.1-.9-2-2-2zM9 17H7v-7h2v7zm4 0h-2V7h2v10zm4 0h-2v-4h2v4z\"/>\n",
              "    </g>\n",
              "</svg>\n",
              "  </button>\n",
              "\n",
              "<style>\n",
              "  .colab-df-quickchart {\n",
              "      --bg-color: #E8F0FE;\n",
              "      --fill-color: #1967D2;\n",
              "      --hover-bg-color: #E2EBFA;\n",
              "      --hover-fill-color: #174EA6;\n",
              "      --disabled-fill-color: #AAA;\n",
              "      --disabled-bg-color: #DDD;\n",
              "  }\n",
              "\n",
              "  [theme=dark] .colab-df-quickchart {\n",
              "      --bg-color: #3B4455;\n",
              "      --fill-color: #D2E3FC;\n",
              "      --hover-bg-color: #434B5C;\n",
              "      --hover-fill-color: #FFFFFF;\n",
              "      --disabled-bg-color: #3B4455;\n",
              "      --disabled-fill-color: #666;\n",
              "  }\n",
              "\n",
              "  .colab-df-quickchart {\n",
              "    background-color: var(--bg-color);\n",
              "    border: none;\n",
              "    border-radius: 50%;\n",
              "    cursor: pointer;\n",
              "    display: none;\n",
              "    fill: var(--fill-color);\n",
              "    height: 32px;\n",
              "    padding: 0;\n",
              "    width: 32px;\n",
              "  }\n",
              "\n",
              "  .colab-df-quickchart:hover {\n",
              "    background-color: var(--hover-bg-color);\n",
              "    box-shadow: 0 1px 2px rgba(60, 64, 67, 0.3), 0 1px 3px 1px rgba(60, 64, 67, 0.15);\n",
              "    fill: var(--button-hover-fill-color);\n",
              "  }\n",
              "\n",
              "  .colab-df-quickchart-complete:disabled,\n",
              "  .colab-df-quickchart-complete:disabled:hover {\n",
              "    background-color: var(--disabled-bg-color);\n",
              "    fill: var(--disabled-fill-color);\n",
              "    box-shadow: none;\n",
              "  }\n",
              "\n",
              "  .colab-df-spinner {\n",
              "    border: 2px solid var(--fill-color);\n",
              "    border-color: transparent;\n",
              "    border-bottom-color: var(--fill-color);\n",
              "    animation:\n",
              "      spin 1s steps(1) infinite;\n",
              "  }\n",
              "\n",
              "  @keyframes spin {\n",
              "    0% {\n",
              "      border-color: transparent;\n",
              "      border-bottom-color: var(--fill-color);\n",
              "      border-left-color: var(--fill-color);\n",
              "    }\n",
              "    20% {\n",
              "      border-color: transparent;\n",
              "      border-left-color: var(--fill-color);\n",
              "      border-top-color: var(--fill-color);\n",
              "    }\n",
              "    30% {\n",
              "      border-color: transparent;\n",
              "      border-left-color: var(--fill-color);\n",
              "      border-top-color: var(--fill-color);\n",
              "      border-right-color: var(--fill-color);\n",
              "    }\n",
              "    40% {\n",
              "      border-color: transparent;\n",
              "      border-right-color: var(--fill-color);\n",
              "      border-top-color: var(--fill-color);\n",
              "    }\n",
              "    60% {\n",
              "      border-color: transparent;\n",
              "      border-right-color: var(--fill-color);\n",
              "    }\n",
              "    80% {\n",
              "      border-color: transparent;\n",
              "      border-right-color: var(--fill-color);\n",
              "      border-bottom-color: var(--fill-color);\n",
              "    }\n",
              "    90% {\n",
              "      border-color: transparent;\n",
              "      border-bottom-color: var(--fill-color);\n",
              "    }\n",
              "  }\n",
              "</style>\n",
              "\n",
              "  <script>\n",
              "    async function quickchart(key) {\n",
              "      const quickchartButtonEl =\n",
              "        document.querySelector('#' + key + ' button');\n",
              "      quickchartButtonEl.disabled = true;  // To prevent multiple clicks.\n",
              "      quickchartButtonEl.classList.add('colab-df-spinner');\n",
              "      try {\n",
              "        const charts = await google.colab.kernel.invokeFunction(\n",
              "            'suggestCharts', [key], {});\n",
              "      } catch (error) {\n",
              "        console.error('Error during call to suggestCharts:', error);\n",
              "      }\n",
              "      quickchartButtonEl.classList.remove('colab-df-spinner');\n",
              "      quickchartButtonEl.classList.add('colab-df-quickchart-complete');\n",
              "    }\n",
              "    (() => {\n",
              "      let quickchartButtonEl =\n",
              "        document.querySelector('#df-c2bc6327-a249-4d44-894f-efc5423b6063 button');\n",
              "      quickchartButtonEl.style.display =\n",
              "        google.colab.kernel.accessAllowed ? 'block' : 'none';\n",
              "    })();\n",
              "  </script>\n",
              "</div>\n",
              "\n",
              "  <div id=\"id_f5d5c9b3-641c-49fa-af6a-0ba98ea01dec\">\n",
              "    <style>\n",
              "      .colab-df-generate {\n",
              "        background-color: #E8F0FE;\n",
              "        border: none;\n",
              "        border-radius: 50%;\n",
              "        cursor: pointer;\n",
              "        display: none;\n",
              "        fill: #1967D2;\n",
              "        height: 32px;\n",
              "        padding: 0 0 0 0;\n",
              "        width: 32px;\n",
              "      }\n",
              "\n",
              "      .colab-df-generate:hover {\n",
              "        background-color: #E2EBFA;\n",
              "        box-shadow: 0px 1px 2px rgba(60, 64, 67, 0.3), 0px 1px 3px 1px rgba(60, 64, 67, 0.15);\n",
              "        fill: #174EA6;\n",
              "      }\n",
              "\n",
              "      [theme=dark] .colab-df-generate {\n",
              "        background-color: #3B4455;\n",
              "        fill: #D2E3FC;\n",
              "      }\n",
              "\n",
              "      [theme=dark] .colab-df-generate:hover {\n",
              "        background-color: #434B5C;\n",
              "        box-shadow: 0px 1px 3px 1px rgba(0, 0, 0, 0.15);\n",
              "        filter: drop-shadow(0px 1px 2px rgba(0, 0, 0, 0.3));\n",
              "        fill: #FFFFFF;\n",
              "      }\n",
              "    </style>\n",
              "    <button class=\"colab-df-generate\" onclick=\"generateWithVariable('data')\"\n",
              "            title=\"Generate code using this dataframe.\"\n",
              "            style=\"display:none;\">\n",
              "\n",
              "  <svg xmlns=\"http://www.w3.org/2000/svg\" height=\"24px\"viewBox=\"0 0 24 24\"\n",
              "       width=\"24px\">\n",
              "    <path d=\"M7,19H8.4L18.45,9,17,7.55,7,17.6ZM5,21V16.75L18.45,3.32a2,2,0,0,1,2.83,0l1.4,1.43a1.91,1.91,0,0,1,.58,1.4,1.91,1.91,0,0,1-.58,1.4L9.25,21ZM18.45,9,17,7.55Zm-12,3A5.31,5.31,0,0,0,4.9,8.1,5.31,5.31,0,0,0,1,6.5,5.31,5.31,0,0,0,4.9,4.9,5.31,5.31,0,0,0,6.5,1,5.31,5.31,0,0,0,8.1,4.9,5.31,5.31,0,0,0,12,6.5,5.46,5.46,0,0,0,6.5,12Z\"/>\n",
              "  </svg>\n",
              "    </button>\n",
              "    <script>\n",
              "      (() => {\n",
              "      const buttonEl =\n",
              "        document.querySelector('#id_f5d5c9b3-641c-49fa-af6a-0ba98ea01dec button.colab-df-generate');\n",
              "      buttonEl.style.display =\n",
              "        google.colab.kernel.accessAllowed ? 'block' : 'none';\n",
              "\n",
              "      buttonEl.onclick = () => {\n",
              "        google.colab.notebook.generateWithVariable('data');\n",
              "      }\n",
              "      })();\n",
              "    </script>\n",
              "  </div>\n",
              "\n",
              "    </div>\n",
              "  </div>\n"
            ],
            "application/vnd.google.colaboratory.intrinsic+json": {
              "type": "dataframe",
              "variable_name": "data",
              "summary": "{\n  \"name\": \"data\",\n  \"rows\": 200,\n  \"fields\": [\n    {\n      \"column\": \"Age\",\n      \"properties\": {\n        \"dtype\": \"number\",\n        \"std\": 16,\n        \"min\": 15,\n        \"max\": 74,\n        \"num_unique_values\": 57,\n        \"samples\": [\n          23,\n          49,\n          37\n        ],\n        \"semantic_type\": \"\",\n        \"description\": \"\"\n      }\n    },\n    {\n      \"column\": \"Sex\",\n      \"properties\": {\n        \"dtype\": \"category\",\n        \"num_unique_values\": 2,\n        \"samples\": [\n          \"M\",\n          \"F\"\n        ],\n        \"semantic_type\": \"\",\n        \"description\": \"\"\n      }\n    },\n    {\n      \"column\": \"BP\",\n      \"properties\": {\n        \"dtype\": \"category\",\n        \"num_unique_values\": 3,\n        \"samples\": [\n          \"HIGH\",\n          \"LOW\"\n        ],\n        \"semantic_type\": \"\",\n        \"description\": \"\"\n      }\n    },\n    {\n      \"column\": \"Cholesterol\",\n      \"properties\": {\n        \"dtype\": \"category\",\n        \"num_unique_values\": 2,\n        \"samples\": [\n          \"NORMAL\",\n          \"HIGH\"\n        ],\n        \"semantic_type\": \"\",\n        \"description\": \"\"\n      }\n    },\n    {\n      \"column\": \"Na_to_K\",\n      \"properties\": {\n        \"dtype\": \"number\",\n        \"std\": 7.223955528459517,\n        \"min\": 6.269,\n        \"max\": 38.247,\n        \"num_unique_values\": 198,\n        \"samples\": [\n          27.05,\n          9.281\n        ],\n        \"semantic_type\": \"\",\n        \"description\": \"\"\n      }\n    },\n    {\n      \"column\": \"Drug\",\n      \"properties\": {\n        \"dtype\": \"category\",\n        \"num_unique_values\": 5,\n        \"samples\": [\n          \"drugC\",\n          \"drugB\"\n        ],\n        \"semantic_type\": \"\",\n        \"description\": \"\"\n      }\n    }\n  ]\n}"
            }
          },
          "metadata": {},
          "execution_count": 4
        }
      ],
      "source": [
        "# lấy dữ liệu\n",
        "data = pd.read_csv(\"/content/drug200.csv\")\n",
        "data"
      ]
    },
    {
      "cell_type": "markdown",
      "id": "20c44ae1",
      "metadata": {
        "id": "20c44ae1"
      },
      "source": [
        "![image.png](attachment:image.png)"
      ]
    },
    {
      "cell_type": "code",
      "execution_count": 5,
      "id": "117028fb-4998-4be4-be79-92e6f6d9b48f",
      "metadata": {
        "id": "117028fb-4998-4be4-be79-92e6f6d9b48f"
      },
      "outputs": [],
      "source": [
        "# tạo tập X và y\n",
        "X = data.drop(columns=['Drug']) # frame\n",
        "y = data['Drug']# series"
      ]
    },
    {
      "cell_type": "code",
      "execution_count": 6,
      "id": "8e9cb1de-e00b-4c56-a808-7ff19da01eaa",
      "metadata": {
        "colab": {
          "base_uri": "https://localhost:8080/"
        },
        "id": "8e9cb1de-e00b-4c56-a808-7ff19da01eaa",
        "outputId": "d371eac7-7ec3-4927-b398-661a805e54a1"
      },
      "outputs": [
        {
          "output_type": "stream",
          "name": "stdout",
          "text": [
            "{'Sex'} ['F' 'M']\n",
            "{'BP'} ['HIGH' 'LOW' 'NORMAL']\n",
            "{'Cholesterol'} ['HIGH' 'NORMAL']\n",
            "Drug\n",
            "DrugY    91\n",
            "drugX    54\n",
            "drugA    23\n",
            "drugC    16\n",
            "drugB    16\n",
            "Name: count, dtype: int64\n"
          ]
        }
      ],
      "source": [
        "# xem giá trị xuất hiện của các cột định tính để biến đổi bước tiếp theo\n",
        "# chúng ta có thể dùng set hoặc np.unique\n",
        "for column in X.select_dtypes(include=['object']).columns:  # Chỉ xét các cột định tính\n",
        "    unique_values = np.unique(X[column])\n",
        "    print({column}, unique_values)\n",
        "\n",
        "# Xem tập y\n",
        "print(y.value_counts())\n"
      ]
    },
    {
      "cell_type": "markdown",
      "id": "80c1a3c5",
      "metadata": {
        "id": "80c1a3c5"
      },
      "source": [
        "![image.png](attachment:image.png)"
      ]
    },
    {
      "cell_type": "code",
      "execution_count": 7,
      "id": "784c9c07-f633-4c4b-9510-d475684c69f7",
      "metadata": {
        "colab": {
          "base_uri": "https://localhost:8080/"
        },
        "id": "784c9c07-f633-4c4b-9510-d475684c69f7",
        "outputId": "db013da9-35f8-446b-a6cc-32bc4a033042"
      },
      "outputs": [
        {
          "output_type": "stream",
          "name": "stderr",
          "text": [
            "<ipython-input-7-57a339cbf617>:7: FutureWarning: Downcasting behavior in `replace` is deprecated and will be removed in a future version. To retain the old behavior, explicitly call `result.infer_objects(copy=False)`. To opt-in to the future behavior, set `pd.set_option('future.no_silent_downcasting', True)`\n",
            "  X['Sex'] = X['Sex'].replace({'M': 0, 'F': 1})\n",
            "<ipython-input-7-57a339cbf617>:8: FutureWarning: Downcasting behavior in `replace` is deprecated and will be removed in a future version. To retain the old behavior, explicitly call `result.infer_objects(copy=False)`. To opt-in to the future behavior, set `pd.set_option('future.no_silent_downcasting', True)`\n",
            "  X['BP'] = X['BP'].replace({'HIGH': 2, 'NORMAL': 1, 'LOW': 0})\n",
            "<ipython-input-7-57a339cbf617>:9: FutureWarning: Downcasting behavior in `replace` is deprecated and will be removed in a future version. To retain the old behavior, explicitly call `result.infer_objects(copy=False)`. To opt-in to the future behavior, set `pd.set_option('future.no_silent_downcasting', True)`\n",
            "  X['Cholesterol'] = X['Cholesterol'].replace({'HIGH': 1, 'NORMAL': 0})\n",
            "<ipython-input-7-57a339cbf617>:11: FutureWarning: Downcasting behavior in `replace` is deprecated and will be removed in a future version. To retain the old behavior, explicitly call `result.infer_objects(copy=False)`. To opt-in to the future behavior, set `pd.set_option('future.no_silent_downcasting', True)`\n",
            "  y = y.replace({'drugA': 0, 'drugB': 1, 'drugC': 2, 'drugX': 3, 'DrugY': 4})\n"
          ]
        }
      ],
      "source": [
        "# biến đổi dữ liệu định tính sang định lượng: Sex, BP, Cholesterol và Drug\n",
        "# 'M': 0, 'F': 1\n",
        "# 'HIGH': 2, 'NORMAL': 1, 'LOW': 0\n",
        "# 'HIGH': 1, 'NORMAL': 0\n",
        "\n",
        " # 'drugA': 0, 'drugB': 1, 'drugC': 2, 'drugX': 3, 'DrugY': 4\n",
        "X['Sex'] = X['Sex'].replace({'M': 0, 'F': 1})\n",
        "X['BP'] = X['BP'].replace({'HIGH': 2, 'NORMAL': 1, 'LOW': 0})\n",
        "X['Cholesterol'] = X['Cholesterol'].replace({'HIGH': 1, 'NORMAL': 0})\n",
        "\n",
        "y = y.replace({'drugA': 0, 'drugB': 1, 'drugC': 2, 'drugX': 3, 'DrugY': 4})\n"
      ]
    },
    {
      "cell_type": "code",
      "execution_count": 8,
      "id": "582bdcc8-17f5-47bd-8fa9-9a9fc955826f",
      "metadata": {
        "colab": {
          "base_uri": "https://localhost:8080/"
        },
        "id": "582bdcc8-17f5-47bd-8fa9-9a9fc955826f",
        "outputId": "f90a9c25-fdc6-44eb-d8d8-a3f579de0124"
      },
      "outputs": [
        {
          "output_type": "stream",
          "name": "stdout",
          "text": [
            "     Age  Sex  BP  Cholesterol  Na_to_K\n",
            "0     23    1   2            1   25.355\n",
            "1     47    0   0            1   13.093\n",
            "2     47    0   0            1   10.114\n",
            "3     28    1   1            1    7.798\n",
            "4     61    1   0            1   18.043\n",
            "..   ...  ...  ..          ...      ...\n",
            "195   56    1   0            1   11.567\n",
            "196   16    0   0            1   12.006\n",
            "197   52    0   1            1    9.894\n",
            "198   23    0   1            0   14.020\n",
            "199   40    1   0            0   11.349\n",
            "\n",
            "[200 rows x 5 columns]\n",
            "0      4\n",
            "1      2\n",
            "2      2\n",
            "3      3\n",
            "4      4\n",
            "      ..\n",
            "195    2\n",
            "196    2\n",
            "197    3\n",
            "198    3\n",
            "199    3\n",
            "Name: Drug, Length: 200, dtype: int64\n"
          ]
        }
      ],
      "source": [
        "print(X)\n",
        "print(y)"
      ]
    },
    {
      "cell_type": "markdown",
      "id": "aa8569bc",
      "metadata": {
        "id": "aa8569bc"
      },
      "source": [
        "![image.png](attachment:image.png)"
      ]
    },
    {
      "cell_type": "code",
      "execution_count": 9,
      "id": "3154d9ce-2626-4bda-ab23-d35ba63fe8f6",
      "metadata": {
        "colab": {
          "base_uri": "https://localhost:8080/"
        },
        "id": "3154d9ce-2626-4bda-ab23-d35ba63fe8f6",
        "outputId": "e0a96e97-42d6-46b8-b3fe-5b55b1c9b7f5"
      },
      "outputs": [
        {
          "output_type": "stream",
          "name": "stdout",
          "text": [
            "     Age  Sex  BP  Cholesterol  Na_to_K\n",
            "79    32    1   0            0   10.840\n",
            "197   52    0   1            1    9.894\n",
            "38    39    1   1            0    9.709\n",
            "24    33    1   0            1   33.486\n",
            "122   34    0   1            1   22.456\n",
            "..   ...  ...  ..          ...      ...\n",
            "106   22    0   1            1   11.953\n",
            "14    50    1   1            1   12.703\n",
            "92    29    1   2            1   29.450\n",
            "179   67    1   1            1   15.891\n",
            "102   28    1   0            1   13.127\n",
            "\n",
            "[160 rows x 5 columns]\n",
            "79     3\n",
            "197    3\n",
            "38     3\n",
            "24     4\n",
            "122    4\n",
            "      ..\n",
            "106    3\n",
            "14     3\n",
            "92     4\n",
            "179    4\n",
            "102    2\n",
            "Name: Drug, Length: 160, dtype: int64\n"
          ]
        }
      ],
      "source": [
        "# tạo dữ liệu train test với tỉ lệ tập test là 0.2\n",
        "X_train, X_test, y_train, y_test = train_test_split(X, y, test_size=0.2, random_state=42)\n",
        "print(X_train)\n",
        "print(y_train)"
      ]
    },
    {
      "cell_type": "markdown",
      "id": "b957d6df",
      "metadata": {
        "id": "b957d6df"
      },
      "source": [
        "![image.png](attachment:image.png)"
      ]
    },
    {
      "cell_type": "code",
      "execution_count": 10,
      "id": "2f545531-7b6f-45f6-891a-dbfa3e35e060",
      "metadata": {
        "id": "2f545531-7b6f-45f6-891a-dbfa3e35e060"
      },
      "outputs": [],
      "source": [
        "# dùng model Decision\n"
      ]
    },
    {
      "cell_type": "code",
      "execution_count": 11,
      "id": "9e674b97-9cd0-459e-852e-e917dee34dc1",
      "metadata": {
        "id": "9e674b97-9cd0-459e-852e-e917dee34dc1"
      },
      "outputs": [],
      "source": [
        "decisionTree = DecisionTreeClass(min_samples_split = 2, max_depth = 10)"
      ]
    },
    {
      "cell_type": "code",
      "execution_count": 12,
      "id": "94a391b8-ce49-4f10-bfe1-60a379665835",
      "metadata": {
        "id": "94a391b8-ce49-4f10-bfe1-60a379665835"
      },
      "outputs": [],
      "source": [
        "decisionTree.fit(X_train, y_train)"
      ]
    },
    {
      "cell_type": "code",
      "execution_count": 13,
      "id": "0e91b51f-b398-46b1-87b6-99d3728261da",
      "metadata": {
        "colab": {
          "base_uri": "https://localhost:8080/"
        },
        "id": "0e91b51f-b398-46b1-87b6-99d3728261da",
        "outputId": "9c989f51-fbd3-477b-9269-5dfeb299f1ff"
      },
      "outputs": [
        {
          "output_type": "execute_result",
          "data": {
            "text/plain": [
              "array([3, 4, 3, 2, 4, 4, 4, 3, 0, 3, 0, 3, 4, 0, 1, 4, 1, 3, 2, 4, 1, 3,\n",
              "       3, 4, 4, 4, 2, 3, 4, 3, 4, 2, 2, 4, 0, 4, 3, 0, 4, 0])"
            ]
          },
          "metadata": {},
          "execution_count": 13
        }
      ],
      "source": [
        "y_pred = decisionTree.predict(X_test)\n",
        "y_pred"
      ]
    },
    {
      "cell_type": "code",
      "execution_count": 14,
      "id": "21553a89-df71-4d7c-9d3b-cba214a80934",
      "metadata": {
        "id": "21553a89-df71-4d7c-9d3b-cba214a80934",
        "colab": {
          "base_uri": "https://localhost:8080/"
        },
        "outputId": "6eb2a615-c2ca-4b11-abd5-50244a5a9fd6"
      },
      "outputs": [
        {
          "output_type": "stream",
          "name": "stdout",
          "text": [
            "[3 4 3 2 4 4 4 3 0 3 0 3 4 0 1 4 1 3 2 4 1 3 3 4 4 4 2 3 4 3 4 2 2 4 0 4 3\n",
            " 0 4 0]\n"
          ]
        }
      ],
      "source": [
        "print(y_test.values)"
      ]
    },
    {
      "cell_type": "code",
      "execution_count": 15,
      "id": "a2e7093d-782b-4643-8538-5d17cf1afb6c",
      "metadata": {
        "id": "a2e7093d-782b-4643-8538-5d17cf1afb6c",
        "colab": {
          "base_uri": "https://localhost:8080/"
        },
        "outputId": "b129e64d-9c58-4526-83eb-95a6369f33df"
      },
      "outputs": [
        {
          "output_type": "execute_result",
          "data": {
            "text/plain": [
              "100.0"
            ]
          },
          "metadata": {},
          "execution_count": 15
        }
      ],
      "source": [
        "# độ chính xác\n",
        "accuracy(y_test.values, y_pred)"
      ]
    },
    {
      "cell_type": "code",
      "execution_count": 16,
      "id": "31e855ce-0d13-4a0a-ba70-0cf4fd00a6c6",
      "metadata": {
        "id": "31e855ce-0d13-4a0a-ba70-0cf4fd00a6c6"
      },
      "outputs": [],
      "source": [
        "# dùng model Random Forest"
      ]
    },
    {
      "cell_type": "code",
      "execution_count": 17,
      "id": "e133b56f-f5b5-4070-bf58-14f6dfff50e6",
      "metadata": {
        "id": "e133b56f-f5b5-4070-bf58-14f6dfff50e6"
      },
      "outputs": [],
      "source": [
        "randomForest = RandomForest(n_trees = 3, n_features = 4)"
      ]
    },
    {
      "cell_type": "code",
      "execution_count": 18,
      "id": "3f6745c1-c135-40d3-afb7-2dfe9e5ceb31",
      "metadata": {
        "id": "3f6745c1-c135-40d3-afb7-2dfe9e5ceb31"
      },
      "outputs": [],
      "source": [
        "randomForest.fit(X_train, y_train)"
      ]
    },
    {
      "cell_type": "code",
      "execution_count": 19,
      "id": "ba0013c3-6e02-492f-a04b-0e281a4e6a1e",
      "metadata": {
        "id": "ba0013c3-6e02-492f-a04b-0e281a4e6a1e",
        "colab": {
          "base_uri": "https://localhost:8080/"
        },
        "outputId": "52dafa69-2356-4e0e-ee3b-102488a855ab"
      },
      "outputs": [
        {
          "output_type": "execute_result",
          "data": {
            "text/plain": [
              "array([3, 4, 3, 2, 4, 4, 4, 3, 0, 3, 0, 3, 4, 0, 1, 4, 1, 3, 2, 4, 1, 3,\n",
              "       3, 4, 4, 4, 2, 3, 4, 3, 4, 2, 2, 4, 0, 4, 3, 0, 4, 0])"
            ]
          },
          "metadata": {},
          "execution_count": 19
        }
      ],
      "source": [
        "y_pred = randomForest.predict(X_test)\n",
        "y_pred"
      ]
    },
    {
      "cell_type": "code",
      "execution_count": 20,
      "id": "ed798108-b7e1-4265-af90-89e3f020a3b8",
      "metadata": {
        "id": "ed798108-b7e1-4265-af90-89e3f020a3b8",
        "colab": {
          "base_uri": "https://localhost:8080/"
        },
        "outputId": "92947ec2-5cf1-4532-c4ed-3614b408a0c4"
      },
      "outputs": [
        {
          "output_type": "stream",
          "name": "stdout",
          "text": [
            "[3 4 3 2 4 4 4 3 0 3 0 3 4 0 1 4 1 3 2 4 1 3 3 4 4 4 2 3 4 3 4 2 2 4 0 4 3\n",
            " 0 4 0]\n"
          ]
        }
      ],
      "source": [
        "print(y_test.values)"
      ]
    },
    {
      "cell_type": "code",
      "execution_count": 21,
      "id": "bca25889-f021-4478-acac-d2c57572e669",
      "metadata": {
        "id": "bca25889-f021-4478-acac-d2c57572e669",
        "colab": {
          "base_uri": "https://localhost:8080/"
        },
        "outputId": "bc06e376-f41b-4e1b-c810-658b8d73e6bd"
      },
      "outputs": [
        {
          "output_type": "execute_result",
          "data": {
            "text/plain": [
              "100.0"
            ]
          },
          "metadata": {},
          "execution_count": 21
        }
      ],
      "source": [
        "# độ chính xác\n",
        "accuracy(y_test.values, y_pred)"
      ]
    },
    {
      "cell_type": "code",
      "execution_count": 21,
      "id": "9e080b8b-07e1-47d6-9db2-2c9d6ca46e15",
      "metadata": {
        "id": "9e080b8b-07e1-47d6-9db2-2c9d6ca46e15"
      },
      "outputs": [],
      "source": []
    },
    {
      "cell_type": "code",
      "execution_count": 22,
      "id": "2eeb9b18-a9b6-43e9-a9e1-7086020da8e7",
      "metadata": {
        "id": "2eeb9b18-a9b6-43e9-a9e1-7086020da8e7"
      },
      "outputs": [],
      "source": [
        "# phát triển thêm:\n",
        "# 1. Học thêm Decision Tree bằng thuật toán CART cho dự đoán cả Classification và Regression\n",
        "# 2. Tìm hiểu về phương pháp cắt tỉa để giảm overfitting\n",
        "# 3. Code lại baiTap sử dụng thư viện Scikit-learn\n",
        "# 4. So sánh hai thuật toán của Decision Tree: ID3 (cái đang làm) và CART."
      ]
    },
    {
      "cell_type": "code",
      "execution_count": 23,
      "id": "c8e31da1-14d5-4f52-b545-073b051a1264",
      "metadata": {
        "id": "c8e31da1-14d5-4f52-b545-073b051a1264"
      },
      "outputs": [],
      "source": [
        "# Xem thêm ảnh dưới để biết thêm thuật toán nào nên dùng các kỹ thuật Scale\n",
        "# Min-max scaler, Standard scaler, Robust scaler"
      ]
    },
    {
      "cell_type": "markdown",
      "id": "e905eab2-82e6-4267-a997-bcc4e585dd4c",
      "metadata": {
        "id": "e905eab2-82e6-4267-a997-bcc4e585dd4c"
      },
      "source": [
        "![Ảnh màn hình 2024-10-06 lúc 13.15.48.png](attachment:b608361b-9021-4483-88e2-b43b0b81b1f1.png)"
      ]
    },
    {
      "cell_type": "code",
      "execution_count": 23,
      "id": "4488afc1-bc80-4e0f-9a32-3dfe957d1ade",
      "metadata": {
        "id": "4488afc1-bc80-4e0f-9a32-3dfe957d1ade"
      },
      "outputs": [],
      "source": []
    }
  ],
  "metadata": {
    "kernelspec": {
      "display_name": "Python 3 (ipykernel)",
      "language": "python",
      "name": "python3"
    },
    "language_info": {
      "codemirror_mode": {
        "name": "ipython",
        "version": 3
      },
      "file_extension": ".py",
      "mimetype": "text/x-python",
      "name": "python",
      "nbconvert_exporter": "python",
      "pygments_lexer": "ipython3",
      "version": "3.12.4"
    },
    "colab": {
      "provenance": []
    }
  },
  "nbformat": 4,
  "nbformat_minor": 5
}